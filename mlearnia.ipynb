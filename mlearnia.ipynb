{
 "cells": [
  {
   "cell_type": "markdown",
   "metadata": {},
   "source": [
    "### Etapes a suivre Modele, Fonction Cout, Gradient, Gradient Descent"
   ]
  },
  {
   "cell_type": "code",
   "execution_count": 5,
   "metadata": {},
   "outputs": [],
   "source": [
    "import numpy as np \n",
    "from sklearn.datasets import make_regression\n",
    "import matplotlib.pyplot as plt"
   ]
  },
  {
   "cell_type": "markdown",
   "metadata": {},
   "source": [
    "Etape 1: Creons le Dataset"
   ]
  },
  {
   "cell_type": "code",
   "execution_count": 40,
   "metadata": {},
   "outputs": [
    {
     "data": {
      "text/plain": [
       "<matplotlib.collections.PathCollection at 0x1b7a4a8e0f0>"
      ]
     },
     "execution_count": 40,
     "metadata": {},
     "output_type": "execute_result"
    },
    {
     "data": {
      "image/png": "[encoded data removed]",
      "text/plain": [
       "<Figure size 640x480 with 1 Axes>"
      ]
     },
     "metadata": {},
     "output_type": "display_data"
    }
   ],
   "source": [
    "x,y = make_regression(n_samples=100,n_features=1,noise = 10)\n",
    "plt.scatter(x,y)"
   ]
  },
  {
   "cell_type": "code",
   "execution_count": 41,
   "metadata": {},
   "outputs": [
    {
     "name": "stdout",
     "output_type": "stream",
     "text": [
      "(100, 1)\n",
      "(100,)\n",
      "(100, 1)\n"
     ]
    }
   ],
   "source": [
    "#Verifions les dimemnsions de notre matrice()\n",
    "print(x.shape)\n",
    "print(y.shape)\n",
    "#Y etant incomplet on reecrit les dim de y \n",
    "y = y.reshape(y.shape[0],1)\n",
    "print(y.shape)"
   ]
  },
  {
   "cell_type": "code",
   "execution_count": 42,
   "metadata": {},
   "outputs": [
    {
     "data": {
      "text/plain": [
       "array([[ 0.19250096,  1.        ],\n",
       "       [ 1.86645938,  1.        ],\n",
       "       [ 0.25981581,  1.        ],\n",
       "       [-0.22873414,  1.        ],\n",
       "       [ 1.40007527,  1.        ],\n",
       "       [-1.56227927,  1.        ],\n",
       "       [ 1.22728277,  1.        ],\n",
       "       [-1.05984701,  1.        ],\n",
       "       [ 0.82170902,  1.        ],\n",
       "       [-0.39349161,  1.        ],\n",
       "       [-0.29217942,  1.        ],\n",
       "       [ 0.23510405,  1.        ],\n",
       "       [ 0.38216998,  1.        ],\n",
       "       [ 0.45552498,  1.        ],\n",
       "       [ 0.24751991,  1.        ],\n",
       "       [ 0.78970894,  1.        ],\n",
       "       [ 1.29595203,  1.        ],\n",
       "       [-0.33256141,  1.        ],\n",
       "       [-0.75682713,  1.        ],\n",
       "       [-1.440726  ,  1.        ],\n",
       "       [-0.36787745,  1.        ],\n",
       "       [-0.61210986,  1.        ],\n",
       "       [-1.09070027,  1.        ],\n",
       "       [-1.05837353,  1.        ],\n",
       "       [ 1.97641669,  1.        ],\n",
       "       [ 0.14435651,  1.        ],\n",
       "       [-0.41219295,  1.        ],\n",
       "       [ 1.87114335,  1.        ],\n",
       "       [-1.74294013,  1.        ],\n",
       "       [-0.57467865,  1.        ],\n",
       "       [-0.76137368,  1.        ],\n",
       "       [ 0.01497594,  1.        ],\n",
       "       [ 0.39348472,  1.        ],\n",
       "       [-1.31865814,  1.        ],\n",
       "       [-0.9804813 ,  1.        ],\n",
       "       [-0.2335554 ,  1.        ],\n",
       "       [-0.30606652,  1.        ],\n",
       "       [-0.44235176,  1.        ],\n",
       "       [ 0.42948889,  1.        ],\n",
       "       [-0.44560583,  1.        ],\n",
       "       [ 0.35511963,  1.        ],\n",
       "       [-0.36265789,  1.        ],\n",
       "       [ 1.47405045,  1.        ],\n",
       "       [ 2.47220697,  1.        ],\n",
       "       [-0.02690374,  1.        ],\n",
       "       [ 1.26110409,  1.        ],\n",
       "       [ 0.0424    ,  1.        ],\n",
       "       [ 0.32782728,  1.        ],\n",
       "       [ 1.00493281,  1.        ],\n",
       "       [-1.46942266,  1.        ],\n",
       "       [-1.22029171,  1.        ],\n",
       "       [ 1.15539527,  1.        ],\n",
       "       [ 0.66796706,  1.        ],\n",
       "       [-1.39923353,  1.        ],\n",
       "       [-2.23794035,  1.        ],\n",
       "       [ 0.87819769,  1.        ],\n",
       "       [ 0.77219391,  1.        ],\n",
       "       [ 0.45240669,  1.        ],\n",
       "       [ 1.22016288,  1.        ],\n",
       "       [ 1.73730199,  1.        ],\n",
       "       [-0.1956526 ,  1.        ],\n",
       "       [ 0.11432604,  1.        ],\n",
       "       [ 0.53809447,  1.        ],\n",
       "       [-0.1428885 ,  1.        ],\n",
       "       [-0.37479738,  1.        ],\n",
       "       [ 2.34377636,  1.        ],\n",
       "       [ 0.54962642,  1.        ],\n",
       "       [ 1.79989203,  1.        ],\n",
       "       [ 0.78497599,  1.        ],\n",
       "       [-0.94431263,  1.        ],\n",
       "       [ 0.76500692,  1.        ],\n",
       "       [ 0.87991222,  1.        ],\n",
       "       [ 1.01155892,  1.        ],\n",
       "       [-0.59344236,  1.        ],\n",
       "       [-1.12410999,  1.        ],\n",
       "       [-0.94463837,  1.        ],\n",
       "       [ 0.50812004,  1.        ],\n",
       "       [ 0.20895756,  1.        ],\n",
       "       [-0.58418952,  1.        ],\n",
       "       [ 0.37076317,  1.        ],\n",
       "       [ 0.30656991,  1.        ],\n",
       "       [ 0.90578359,  1.        ],\n",
       "       [-1.70990775,  1.        ],\n",
       "       [-1.5922765 ,  1.        ],\n",
       "       [-0.12396784,  1.        ],\n",
       "       [-2.22675656,  1.        ],\n",
       "       [ 0.96785116,  1.        ],\n",
       "       [-1.47498955,  1.        ],\n",
       "       [-0.31050591,  1.        ],\n",
       "       [-2.26448831,  1.        ],\n",
       "       [ 0.80050432,  1.        ],\n",
       "       [ 0.49543808,  1.        ],\n",
       "       [-0.02093038,  1.        ],\n",
       "       [-0.60381593,  1.        ],\n",
       "       [ 0.55911021,  1.        ],\n",
       "       [ 0.50413658,  1.        ],\n",
       "       [ 0.12769907,  1.        ],\n",
       "       [-0.41508736,  1.        ],\n",
       "       [-0.56821564,  1.        ],\n",
       "       [-1.61951112,  1.        ]])"
      ]
     },
     "execution_count": 42,
     "metadata": {},
     "output_type": "execute_result"
    }
   ],
   "source": [
    "# Creons une matrice X\n",
    "X = np.hstack((x,np.ones(x.shape)))#il colle 2 vecteurs ensemble\n",
    "X"
   ]
  },
  {
   "cell_type": "code",
   "execution_count": 43,
   "metadata": {},
   "outputs": [
    {
     "data": {
      "text/plain": [
       "array([[ 1.55900593],\n",
       "       [-0.57147911]])"
      ]
     },
     "execution_count": 43,
     "metadata": {},
     "output_type": "execute_result"
    }
   ],
   "source": [
    "#On initialise un vecteur theta (caracterisant les props du modele) avec de params aleatiores\n",
    "theta = np.random.randn(2,1) # 2 elts car on fait regLineaire (ax+b)\n",
    "theta\n",
    "\n"
   ]
  },
  {
   "cell_type": "markdown",
   "metadata": {},
   "source": [
    "Modele Lineaire F=X.O avec O=theta"
   ]
  },
  {
   "cell_type": "code",
   "execution_count": 44,
   "metadata": {},
   "outputs": [
    {
     "data": {
      "text/plain": [
       "[<matplotlib.lines.Line2D at 0x1b7a4e4bd70>]"
      ]
     },
     "execution_count": 44,
     "metadata": {},
     "output_type": "execute_result"
    },
    {
     "data": {
      "image/png": "[encoded data removed]",
      "text/plain": [
       "<Figure size 640x480 with 1 Axes>"
      ]
     },
     "metadata": {},
     "output_type": "display_data"
    }
   ],
   "source": [
    "#Maintenant qu'on X,Y,Theta on peut passer au modele\n",
    "def modeleLineaire(X,theta):\n",
    "    return X.dot(theta)\n",
    "\n",
    "plt.scatter(x,y)\n",
    "#Testons le modele \n",
    "plt.plot(x,modeleLineaire(X,theta),c='r')#Affichons le modele par rapport a x"
   ]
  },
  {
   "cell_type": "markdown",
   "metadata": {},
   "source": [
    "Fonction Cout"
   ]
  },
  {
   "cell_type": "code",
   "execution_count": 45,
   "metadata": {},
   "outputs": [
    {
     "data": {
      "text/plain": [
       "3431.7053553642236"
      ]
     },
     "execution_count": 45,
     "metadata": {},
     "output_type": "execute_result"
    }
   ],
   "source": [
    "def cost_function(X,y,theta):\n",
    "    m = len(y)\n",
    "    return 1/(2*m) * np.sum((modeleLineaire(X,theta)-y)**2)\n",
    "\n",
    "cost_function(X,y,theta) #Lideal serait que cette valeur tende vers 0"
   ]
  },
  {
   "cell_type": "markdown",
   "metadata": {},
   "source": [
    "Gradient et Gradient Descent"
   ]
  },
  {
   "cell_type": "code",
   "execution_count": 46,
   "metadata": {},
   "outputs": [],
   "source": [
    "def gradient(X,y,theta):\n",
    "    m = len(y)\n",
    "    return 1/m * X.T.dot(modeleLineaire(X,theta)-y)"
   ]
  },
  {
   "cell_type": "code",
   "execution_count": 61,
   "metadata": {},
   "outputs": [],
   "source": [
    "#Gradient Descent   \n",
    "def gradientDescent(X,y,theta,learning_rate,n_iterations):\n",
    "    cost_history = np.zeros(n_iterations)\n",
    "    for i in range(0,n_iterations):\n",
    "        theta = theta - learning_rate * gradient(X,y,theta)\n",
    "        cost_history[i] = cost_function(X,y,theta)\n",
    "    return theta,cost_history"
   ]
  },
  {
   "cell_type": "markdown",
   "metadata": {},
   "source": [
    "Machine Learning"
   ]
  },
  {
   "cell_type": "code",
   "execution_count": 64,
   "metadata": {},
   "outputs": [
    {
     "data": {
      "text/plain": [
       "array([[81.19764844],\n",
       "       [ 0.09306429]])"
      ]
     },
     "execution_count": 64,
     "metadata": {},
     "output_type": "execute_result"
    }
   ],
   "source": [
    "theta_final,cost_history = gradientDescent(X,y,theta,learning_rate=0.1,n_iterations=500)\n",
    "theta_final     "
   ]
  },
  {
   "cell_type": "markdown",
   "metadata": {},
   "source": [
    "VErifions si le theta_final nous donne de bon resultat"
   ]
  },
  {
   "cell_type": "code",
   "execution_count": 65,
   "metadata": {},
   "outputs": [
    {
     "data": {
      "text/plain": [
       "[<matplotlib.lines.Line2D at 0x1b797d02420>]"
      ]
     },
     "execution_count": 65,
     "metadata": {},
     "output_type": "execute_result"
    },
    {
     "data": {
      "image/png": "[encoded data removed]",
      "text/plain": [
       "<Figure size 640x480 with 1 Axes>"
      ]
     },
     "metadata": {},
     "output_type": "display_data"
    }
   ],
   "source": [
    "#Creons un vecteur de orediction\n",
    "predictions = modeleLineaire(X,theta_final)\n",
    "plt.scatter(x,y)\n",
    "plt.plot(x,predictions,c='g')"
   ]
  },
  {
   "cell_type": "markdown",
   "metadata": {},
   "source": [
    "### Courbe D'Apprentissage"
   ]
  },
  {
   "cell_type": "code",
   "execution_count": 66,
   "metadata": {},
   "outputs": [
    {
     "data": {
      "text/plain": [
       "[<matplotlib.lines.Line2D at 0x1b798ed04d0>]"
      ]
     },
     "execution_count": 66,
     "metadata": {},
     "output_type": "execute_result"
    },
    {
     "data": {
      "image/png": "[encoded data removed]",
      "text/plain": [
       "<Figure size 640x480 with 1 Axes>"
      ]
     },
     "metadata": {},
     "output_type": "display_data"
    }
   ],
   "source": [
    "\n",
    "plt.plot(range(500),cost_history)\n",
    "\n",
    "#On remarque sur le graphe qu'impeu avant les 100 iterations,le cout na pas diminuer,\n",
    "# on aurait pu arreter apres 60 ou 70 iteration (imoeu avant la 100eme iteration) "
   ]
  },
  {
   "cell_type": "markdown",
   "metadata": {},
   "source": [
    "Coefficient de Determination ou R-Squarre"
   ]
  },
  {
   "cell_type": "code",
   "execution_count": 68,
   "metadata": {},
   "outputs": [
    {
     "data": {
      "text/plain": [
       "0.9818504040407083"
      ]
     },
     "execution_count": 68,
     "metadata": {},
     "output_type": "execute_result"
    }
   ],
   "source": [
    "def coef_determination(y,pred):\n",
    "    u = ((y-pred)**2).sum() \n",
    "    v = ((y - y.mean())**2).sum()\n",
    "    return 1 - u/v\n",
    "\n",
    "coef_determination(y,predictions)"
   ]
  }
 ],
 "metadata": {
  "kernelspec": {
   "display_name": "Python 3",
   "language": "python",
   "name": "python3"
  },
  "language_info": {
   "codemirror_mode": {
    "name": "ipython",
    "version": 3
   },
   "file_extension": ".py",
   "mimetype": "text/x-python",
   "name": "python",
   "nbconvert_exporter": "python",
   "pygments_lexer": "ipython3",
   "version": "3.12.1"
  }
 },
 "nbformat": 4,
 "nbformat_minor": 2
}
